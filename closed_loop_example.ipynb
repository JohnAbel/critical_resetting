{
 "cells": [
  {
   "cell_type": "markdown",
   "metadata": {},
   "source": [
    "# Performing Type 0/Critical Resetting \n",
    "\n",
    "Created on Mon Feb 5 2018\n",
    "\n",
    "@author: abel\n",
    "\n",
    "This notebook demonstrates the first set of results for \"critical resetting,\" that is, driving the circadian oscillator close to the singularity using only light."
   ]
  },
  {
   "cell_type": "code",
   "execution_count": 1,
   "metadata": {
    "collapsed": true
   },
   "outputs": [],
   "source": [
    "# imports\n",
    "from __future__ import division\n",
    "\n",
    "# basic numerical packages\n",
    "import numpy as np\n",
    "import casadi as cs\n",
    "import matplotlib.pyplot as plt\n",
    "from matplotlib.gridspec import GridSpec\n",
    "\n",
    "# locally created packages for limit cycle analysis and plotting utilities\n",
    "from LocalImports import LimitCycle as lc\n",
    "from LocalImports import PlotOptions as plo\n",
    "\n",
    "# importing two models here:\n",
    "#   1. kronauer model is the kronauer model with light input directly parameterized as part \n",
    "#      of the functions. this is useful for performing the actual simulation, but importantly\n",
    "#      is does NOT constitute a limit cycle because process L is not inherently cyclical. \n",
    "#      the integration tools work well, though.\n",
    "#   2. simplified kronauer model (imported as skm) is the kronauer model's limit cycle \n",
    "#      component assuming zero light inputs. this is useful for solving for limit cycle \n",
    "#      quantities (PRCs, ARCs) or for finding the phase of the kronauer model (i.e. \n",
    "#      finding its location on the process P limit cycle)\n",
    "from LocalModels.kronauer_model import model, param, EqCount, y0in, null_I\n",
    "import LocalModels.simplified_kronauer_model as skm"
   ]
  },
  {
   "cell_type": "code",
   "execution_count": 2,
   "metadata": {
    "collapsed": true
   },
   "outputs": [],
   "source": [
    "# set-up way to get the phase of a point using the simplified model\n",
    "\n",
    "# initialize limit cycle oscillator object\n",
    "skron = lc.Oscillator(skm.model(), skm.param, skm.y0in)\n",
    "\n",
    "# turn off the biological contstraint. (process P is non-physiological. \n",
    "# normally I would constain all concentrations to be positive, but that\n",
    "# is non-essential here.)\n",
    "skron.intoptions['constraints']=None\n",
    "skron.calc_y0()\n",
    "skron.limit_cycle()\n",
    "skron.find_prc()"
   ]
  },
  {
   "cell_type": "code",
   "execution_count": 3,
   "metadata": {},
   "outputs": [
    {
     "name": "stdout",
     "output_type": "stream",
     "text": [
      "first pulse applied at a phase of 2.661657096854635 radians\n"
     ]
    }
   ],
   "source": [
    "# figure out phase at which the pulse occurs for the 24.6h case, since that\n",
    "# one is the most effective\n",
    "y0 = [ 0.99996874,  0.10023398, 0] # initial conditions\n",
    "param[3]=24.6                      # tau parameter, set to 24.6 \n",
    "kron = lc.Oscillator(model(null_I), param, y0) # kronaur model within the \n",
    "#                                              oscillator object allows simple \n",
    "#                                              integration routines\n",
    "kron.intoptions['constraints'] = None # constraints off\n",
    "\n",
    "\n",
    "# integrate to get the solution just before the pulse is applied\n",
    "sol_pre = kron.int_odes(10.4) \n",
    "ts_pre = kron.ts\n",
    "y0_pulse = sol_pre[-1]  # initial pulse condition\n",
    "\n",
    "# once we have the oscillator state before the pulse, we should find what phase \n",
    "# the oscillator is at, to figure out where to start the pulse for the controlled case\n",
    "pulse_phase = skron.phase_of_point(y0_pulse[:-1]) # should give ~2.66 rad\n",
    "print \"first pulse applied at a phase of \"+str(pulse_phase)+ \" radians\""
   ]
  },
  {
   "cell_type": "markdown",
   "metadata": {},
   "source": [
    "# SHOOTING BLIND\n",
    "\n",
    "Before the control, though, let's try the three-pulse experiment NOT under control. So, get to 10.4h (2.5h before CBTmin), apply the pulse for 5h, apply no light for 19h, repeat for three pulses.\n"
   ]
  },
  {
   "cell_type": "code",
   "execution_count": 4,
   "metadata": {
    "collapsed": true
   },
   "outputs": [],
   "source": [
    "# untargeted stimulus function. try it out in the next cell after defining it.\n",
    "def threecycle_stimulus(tau, pulse_dur=5, pulse_space=19):\n",
    "    \"\"\"\n",
    "    Applies the 3-cycle stimulus protocol for a given tau\n",
    "\n",
    "    Arguments\n",
    "    ----------\n",
    "    tau : float\n",
    "        period of oscillation\n",
    "    pulse_dur : float\n",
    "        length of the 9500 lux light stimulus\n",
    "    pulse_space : float\n",
    "        length of dark/dim light following the pulse. should add to 24.\n",
    "    \"\"\"\n",
    "\n",
    "    # pre-pulse: set up the model, integrate to 10.4 h where first pulse begins.\n",
    "    y0 = [ 0.99996874,  0.10023398, 0]\n",
    "    param[3]=tau\n",
    "    kron = lc.Oscillator(model(null_I), param, y0)\n",
    "    kron.intoptions['constraints']=None\n",
    "    dsol_pre = kron.int_odes(10.4)\n",
    "    dts_pre = kron.ts\n",
    "    y0_pulse = dsol_pre[-1]\n",
    "\n",
    "    dsol_pulses = [dsol_pre]\n",
    "    dts_pulses = [dts_pre]\n",
    "    for i in range(2):\n",
    "        # during pulse\n",
    "        kron = lc.Oscillator(model(I_pulse), param, y0_pulse)\n",
    "        kron.intoptions['constraints']=None\n",
    "        dsol_dur = kron.int_odes(pulse_dur)\n",
    "        dts_dur = kron.ts\n",
    "\n",
    "        # after pulse\n",
    "        kron = lc.Oscillator(model(null_I), param, dsol_dur[-1])\n",
    "        kron.intoptions['constraints']=None\n",
    "        dsol_post = kron.int_odes(pulse_space)\n",
    "        dts_post = kron.ts\n",
    "\n",
    "        y0_pulse = dsol_post[-1]\n",
    "        dts_pulses.append(dts_dur+dts_pulses[-1][-1])\n",
    "        dts_pulses.append(dts_post+dts_pulses[-1][-1])\n",
    "        dsol_pulses.append(dsol_dur)\n",
    "        dsol_pulses.append(dsol_post)\n",
    "\n",
    "    final_dist = np.sqrt(np.sum(dsol_dur[-1][:2]**2))\n",
    "    dsol_pulses = np.vstack(dsol_pulses)\n",
    "    dts_pulses = np.hstack(dts_pulses)\n",
    "    \n",
    "    # returnds time points, solution trajectories, and the distance to the \n",
    "    # fixed point (0,0) at the end of the last pulse\n",
    "    return dts_pulses, dsol_pulses, final_dist\n",
    "\n",
    "# pulse function formula\n",
    "def I_pulse(t):\n",
    "    \"\"\" returns just max lux \"\"\"\n",
    "    return 9500"
   ]
  },
  {
   "cell_type": "code",
   "execution_count": 5,
   "metadata": {},
   "outputs": [
    {
     "name": "stdout",
     "output_type": "stream",
     "text": [
      "distance to critical pt (AU): 0.4905458778990966\n"
     ]
    }
   ],
   "source": [
    "# try playing around with different parts if you want\n",
    "# 24.2 h period, standard 5h pulse/19h spacing. \n",
    "ts, sol, final_dist = threecycle_stimulus(24.) \n",
    "\n",
    "# distance in state space from crit pt\n",
    "print \"distance to critical pt (AU): \"+str(final_dist)"
   ]
  },
  {
   "cell_type": "code",
   "execution_count": 6,
   "metadata": {},
   "outputs": [
    {
     "data": {
      "image/png": "[encoded data removed]",
      "text/plain": [
       "<matplotlib.figure.Figure at 0x7f06114917d0>"
      ]
     },
     "metadata": {},
     "output_type": "display_data"
    }
   ],
   "source": [
    "# make a plot to see how everything worked\n",
    "plo.PlotOptions(ticks='in')\n",
    "fig = plt.figure(figsize=(8,3))\n",
    "\n",
    "gs = GridSpec(1,2, width_ratios=(2.5,1))\n",
    "\n",
    "ax=plt.subplot(gs[0,0])\n",
    "# dynamics plot\n",
    "ax.plot(ts, sol[:,0], 'f', label ='x(t)')\n",
    "ax.plot(ts, sol[:,1], 'h', label ='xc(t)')\n",
    "ax.plot(ts, sol[:,2], 'l', label ='n(t)')\n",
    "ax.set_xlim([0,80])\n",
    "ax.set_ylim([-1.1,1.1])\n",
    "ax.set_xlabel('Time /h')\n",
    "ax.set_ylabel('State Value')\n",
    "ax.legend()\n",
    "\n",
    "bx=plt.subplot(gs[0,1])\n",
    "# limit cycle plot\n",
    "bx.plot(skron.lc(ts)[:,0], skron.lc(ts)[:,1], 'k', label ='LC')\n",
    "bx.plot(sol[:,0], sol[:,1], 'i--', label ='three-pulse')\n",
    "bx.plot(0,0,'ko',label='critical pt')\n",
    "bx.set_xlabel('x')\n",
    "bx.set_ylabel('xc')\n",
    "bx.set_ylim([-1.4,1.1])\n",
    "bx.set_xlim([-1.8,1.6])\n",
    "bx.legend(loc=3)\n",
    "\n",
    "ax.set_title(r'$\\tau$ = '+str(param[3])+', Aiming Blind')\n",
    "plt.tight_layout(**plo.layout_pad)\n",
    "plt.show()\n",
    "\n",
    "# saves the figure in LocalFigures for better resolution\n",
    "fig.savefig('LocalFigures/blind_three_pulse'+str(param[3])+'.svg')"
   ]
  },
  {
   "cell_type": "markdown",
   "metadata": {},
   "source": [
    "# CONTROL\n",
    "\n",
    "So now that we see how it looks when shooting blind, what if instead we try to apply all pulses at the same\n",
    "phase (+/- the 0.5h sampling rate)? We can do that by implementing a simple control algorithm.\n",
    "\n",
    "We have:\n",
    " - the oscillator (kron, can be set up with other periods by changing param[3] (tau))\n",
    " - the phase at which the pulse should *begin*\n",
    " - a means for calculating oscillator phase (using the process P/simplified kronaur model limit cycle)\n",
    " \n",
    "Then, these can all be connected for the three-pulse experiment to deliver it under control. The process would be:\n",
    " 1. Start the oscillator at phase 0.\n",
    " 2. Integrate forward a step in time (step duration, say, 0.5h. This is the maximal mistiming of the pulse).\n",
    " 3. Calculate phase\n",
    " 4. If phase < pulse phase: \n",
    "      - go to step 2.\n",
    " 5.   Else if the oscillator has passed the pulse_phase:\n",
    "      - start the pulse, apply the pulse for 5h.\n",
    "      - since the pulse will not be needed again for at least 15h, just advance then 15h without the pulse. this is         solely to save time on phase calculations over that time, which can be slow.\n",
    "\n",
    "Now, we will define a process to perform that control.\n"
   ]
  },
  {
   "cell_type": "code",
   "execution_count": 7,
   "metadata": {
    "collapsed": true
   },
   "outputs": [],
   "source": [
    "# targeted stimulus formula\n",
    "def threecycle_targeted_stimulus(tau, phase_target, pulse_dur = 5):\n",
    "    \"\"\"\n",
    "    Applies the 3-cycle stimulus protocol for a given tau\n",
    "\n",
    "    Arguments\n",
    "    ----------\n",
    "    tau : float\n",
    "        period of oscillation\n",
    "    phase_target : float\n",
    "        phase at which we want to apply the pulse\n",
    "    pulse_dur : float\n",
    "        duration of the 9500lux pulse\n",
    "    \"\"\"\n",
    "\n",
    "    # set up parameters for first time\n",
    "    y0 = [ 0.99996874,  0.10023398, 0]\n",
    "    param[3]=tau\n",
    "\n",
    "    dsol_total = [[y0]]\n",
    "    dts_total = [[0]]\n",
    "    for pulsecount in range(2):\n",
    "\n",
    "        # set up oscillator\n",
    "        kron = lc.Oscillator(model(null_I), param, y0)\n",
    "        kron.intoptions['constraints']=None\n",
    "        phase = skron.phase_of_point(y0[:-1])\n",
    "\n",
    "        # move forward when it's before the pulse time, or after the pulse\n",
    "        while np.logical_or(phase < phase_target,\n",
    "                            phase > phase_target+3/tau*2*np.pi):\n",
    "            # perform the integration\n",
    "            dsol_pre = kron.int_odes(0.5, numsteps=100)\n",
    "            dts_pre = kron.ts\n",
    "            yend = dsol_pre[-1]\n",
    "            phase = skron.phase_of_point(yend[:-1])\n",
    "            kron.y0 = yend\n",
    "\n",
    "            # append the integration\n",
    "            dsol_total.append(dsol_pre)\n",
    "            dts_total.append(dts_pre+dts_total[-1][-1])\n",
    "\n",
    "\n",
    "        # when it's time, apply the pulse\n",
    "        kron = lc.Oscillator(model(I_pulse), param, yend)\n",
    "        kron.intoptions['constraints']=None\n",
    "        dsol_dur = kron.int_odes(pulse_dur)\n",
    "        dts_dur = kron.ts\n",
    "\n",
    "        y0 = dsol_dur[-1]\n",
    "        dts_total.append(dts_dur+dts_total[-1][-1])\n",
    "        dsol_total.append(dsol_dur)\n",
    "\n",
    "    # residual 15h period after pulse - no need to try to target here\n",
    "    kron = lc.Oscillator(model(null_I), param, dsol_dur[-1])\n",
    "    kron.intoptions['constraints']=None\n",
    "    dsol_post = kron.int_odes(15)\n",
    "    dts_post = kron.ts\n",
    "\n",
    "    dts_total.append(dts_post+dts_total[-1][-1])\n",
    "    dsol_total.append(dsol_post)\n",
    "\n",
    "    final_dist = np.sqrt(np.sum(dsol_dur[-1][:2]**2))\n",
    "    dsol_total = np.vstack(dsol_total)\n",
    "    dts_total = np.hstack(dts_total)\n",
    "\n",
    "    return dts_total, dsol_total, final_dist"
   ]
  },
  {
   "cell_type": "code",
   "execution_count": 10,
   "metadata": {},
   "outputs": [
    {
     "name": "stdout",
     "output_type": "stream",
     "text": [
      "distance to critical pt (AU): 0.4043550531993103\n"
     ]
    },
    {
     "ename": "TypeError",
     "evalue": "str() takes at most 1 argument (2 given)",
     "output_type": "error",
     "traceback": [
      "\u001b[0;31m---------------------------------------------------------------------------\u001b[0m",
      "\u001b[0;31mTypeError\u001b[0m                                 Traceback (most recent call last)",
      "\u001b[0;32m<ipython-input-10-227f4ca7da11>\u001b[0m in \u001b[0;36m<module>\u001b[0;34m()\u001b[0m\n\u001b[1;32m      7\u001b[0m \u001b[0;31m# to run on lab desktop\u001b[0m\u001b[0;34m\u001b[0m\u001b[0;34m\u001b[0m\u001b[0m\n\u001b[1;32m      8\u001b[0m \u001b[0;32mprint\u001b[0m \u001b[0;34m\"distance to critical pt (AU): \"\u001b[0m\u001b[0;34m+\u001b[0m\u001b[0mstr\u001b[0m\u001b[0;34m(\u001b[0m\u001b[0mcfinal_dist\u001b[0m\u001b[0;34m)\u001b[0m\u001b[0;34m\u001b[0m\u001b[0m\n\u001b[0;32m----> 9\u001b[0;31m \u001b[0;32mprint\u001b[0m \u001b[0;34m\"\\nimprovement of \"\u001b[0m\u001b[0;34m+\u001b[0m\u001b[0mstr\u001b[0m\u001b[0;34m(\u001b[0m\u001b[0;36m100\u001b[0m\u001b[0;34m*\u001b[0m\u001b[0mnp\u001b[0m\u001b[0;34m.\u001b[0m\u001b[0mround\u001b[0m\u001b[0;34m(\u001b[0m\u001b[0;36m1\u001b[0m\u001b[0;34m-\u001b[0m\u001b[0mcfinal_dist\u001b[0m\u001b[0;34m/\u001b[0m\u001b[0mfinal_dist\u001b[0m\u001b[0;34m)\u001b[0m\u001b[0;34m,\u001b[0m\u001b[0;36m2\u001b[0m\u001b[0;34m)\u001b[0m\u001b[0;34m+\u001b[0m\u001b[0;34m\"pct\"\u001b[0m\u001b[0;34m\u001b[0m\u001b[0m\n\u001b[0m",
      "\u001b[0;31mTypeError\u001b[0m: str() takes at most 1 argument (2 given)"
     ]
    }
   ],
   "source": [
    "# ok performing this: the c just means controlled\n",
    "cts, csol, cfinal_dist = threecycle_targeted_stimulus(24.0, pulse_phase) \n",
    "# pulse_phase was calculated above\n",
    "\n",
    "# patience... this takes longer because we need to iteratively \n",
    "# sense phase and then time the pulse. takes me about 60-120 s \n",
    "# to run on lab desktop\n",
    "print \"distance to critical pt (AU): \"+str(cfinal_dist)\n",
    "print \"\\nimprovement of \"+str(100*np.round(1-cfinal_dist/final_dist),2)+\"pct\""
   ]
  },
  {
   "cell_type": "code",
   "execution_count": null,
   "metadata": {},
   "outputs": [],
   "source": [
    "# make a plot to see how everything worked\n",
    "plo.PlotOptions(ticks='in')\n",
    "fig = plt.figure(figsize=(8,3))\n",
    "\n",
    "gs = GridSpec(1,2, width_ratios=(2.5,1))\n",
    "\n",
    "ax=plt.subplot(gs[0,0])\n",
    "# dynamics plot\n",
    "ax.plot(cts, csol[:,0], 'f', label ='x(t)')\n",
    "ax.plot(cts, csol[:,1], 'h', label ='xc(t)')\n",
    "ax.plot(cts, csol[:,2], 'l', label ='n(t)')\n",
    "ax.set_xlabel('Time /h')\n",
    "ax.set_ylabel('State Value')\n",
    "ax.set_xlim([0,80])\n",
    "ax.set_ylim([-1.1,1.1])\n",
    "ax.legend()\n",
    "\n",
    "bx=plt.subplot(gs[0,1])\n",
    "# limit cycle plot\n",
    "bx.plot(skron.lc(cts)[:,0], skron.lc(cts)[:,1], 'k', label ='LC')\n",
    "bx.plot(csol[:,0], csol[:,1], 'i--', label ='three-pulse')\n",
    "bx.plot(0,0,'ko',label='critical pt')\n",
    "bx.set_xlabel('x')\n",
    "bx.set_ylabel('xc')\n",
    "bx.set_ylim([-1.4,1.1])\n",
    "bx.set_xlim([-1.8,1.6])\n",
    "bx.legend(loc=3)\n",
    "\n",
    "ax.set_title(r'$\\tau$ = '+str(param[3])+', Control Applied')\n",
    "plt.tight_layout(**plo.layout_pad)\n",
    "plt.show()\n",
    "\n",
    "# saves the figure in LocalFigures for better resolution\n",
    "fig.savefig('LocalFigures/controlled_three_pulse'+str(param[3])+'.svg')"
   ]
  },
  {
   "cell_type": "code",
   "execution_count": null,
   "metadata": {
    "collapsed": true
   },
   "outputs": [],
   "source": []
  }
 ],
 "metadata": {
  "kernelspec": {
   "display_name": "Python 2",
   "language": "python",
   "name": "python2"
  },
  "language_info": {
   "codemirror_mode": {
    "name": "ipython",
    "version": 2
   },
   "file_extension": ".py",
   "mimetype": "text/x-python",
   "name": "python",
   "nbconvert_exporter": "python",
   "pygments_lexer": "ipython2",
   "version": "2.7.6"
  }
 },
 "nbformat": 4,
 "nbformat_minor": 2
}
